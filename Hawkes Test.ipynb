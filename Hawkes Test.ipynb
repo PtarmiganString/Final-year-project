{
 "cells": [
  {
   "cell_type": "markdown",
   "metadata": {},
   "source": [
    "# Importing the Libraries and Data"
   ]
  },
  {
   "cell_type": "code",
   "execution_count": 380,
   "metadata": {
    "scrolled": true
   },
   "outputs": [
    {
     "name": "stdout",
     "output_type": "stream",
     "text": [
      "             Open\n",
      "0     2015.290039\n",
      "1     2023.329956\n",
      "2     2032.359985\n",
      "3     2032.010010\n",
      "4     2038.199951\n",
      "...           ...\n",
      "1252  3032.120117\n",
      "1253  3035.389893\n",
      "1254  3039.739990\n",
      "1255  3046.899902\n",
      "1256  3050.719971\n",
      "\n",
      "[1257 rows x 1 columns]\n"
     ]
    }
   ],
   "source": [
    "import pandas\n",
    "import numpy as np\n",
    "import matplotlib.pyplot as plt\n",
    "df = pandas.read_csv('S&P5yrSample.csv', usecols = ['Open'])\n",
    "print(df)"
   ]
  },
  {
   "cell_type": "markdown",
   "metadata": {},
   "source": [
    "# Defining the Variables"
   ]
  },
  {
   "cell_type": "code",
   "execution_count": 381,
   "metadata": {},
   "outputs": [],
   "source": [
    "j_loops = 1000              # The number of data points we want to include and subsequently, the number of loops. j_loops will be the length of the array \"events\"\n",
    "m = 8                      # m controls the time window of which the average is taken and compared to a chosen value. Currentlly set to 8 for 1 week chunks.\n",
    "indices = [0,1,2,3,4,5,6]  # An array that contains the desired incides in array A, so that a mean can be taken.\n",
    "event_threshold = 1.03     # The threshold for extreme price jumps. This determines how sensitive the model is in detecting an event.\n",
    "beta = 0.01                 # The decay constant for the exponential kernel. This will need to be fitted to match the data."
   ]
  },
  {
   "cell_type": "markdown",
   "metadata": {},
   "source": [
    "# Detecting Events in the Financial Data"
   ]
  },
  {
   "cell_type": "markdown",
   "metadata": {},
   "source": [
    "Creating an array called \"events\" containing 1's (events) and 0's (non-events).\n",
    "\n",
    "A variable \"j\" iterates from 1 to \"j_loops\" which represents how many data points we want to look at. The array, \"events\", will have a length of \"j_loops\".\n",
    "\n",
    "Variable k is set to have a value of j + m. \n",
    "\n",
    "j and k define the time window for each \"j loops\". In this case we are using weekly windows (m = 8).\n",
    "\n",
    "For a given value of j, array A will be filled with 8 open stock prices. Array B will then use the array \"indices\" (Defined in the \"Variables\" section) to take all but the last entry in array A.\n",
    "\n",
    "A mean of array B is calculated. In this case, the mean is taken from the previous 7 days.\n",
    "\n",
    "The \"chosen_value\" is the last entry of array A and is then compared to the mean of array B. The event threshold is used here to determine if the difference between a value and the mean price of the previous week is large enough to class as an event. If this \"chosen_value\" is outside the boundaries set by \"event_threshold\", a a value of 1 will be appended to the array \"events\". Otherwise, a value of 0 will be appended to \"events\".\n",
    "\n",
    "Once the for loop is complete, events will contain a series of 1's and 0's indicating the position of events in the time series."
   ]
  },
  {
   "cell_type": "code",
   "execution_count": 382,
   "metadata": {},
   "outputs": [],
   "source": [
    "events = []                            # Empty array of events. Outside for loop to be printed afterwards.\n",
    "for j in range(0,j_loops):             # Iterates between j = 0 and j = the number of times you want it to loop, j_loops.\n",
    "    A = []                             # Create an empty array A. This will eventually contain a list of open stock prices. \n",
    "    k = j + m                          # Set k so that it is always a value of m higher than j.\n",
    "    for i in range(j,k):               # i will iterate between the values of j and k\n",
    "        A.append(df.at[i, 'Open'])     # Append the value, located at row i and column 'Open', to the array A\n",
    "        i+=1              \n",
    "    j+=1                   \n",
    "\n",
    "    B = np.take(A, indices)            # Cherry-picks the values that we want from array A.\n",
    "   \n",
    "    meanB = np.mean(B)                 # Take the mean of the new array B which is one entry shorter than A\n",
    "    chosen_value = A[m-1]              # Define the last entry in array A, not contained within array B, as the chosen value.\n",
    "    \n",
    "    if chosen_value > event_threshold*meanB:\n",
    "        events.append(1)\n",
    "    elif chosen_value < (1/event_threshold)*meanB:\n",
    "        events.append(1)\n",
    "    else: \n",
    "        events.append(0)"
   ]
  },
  {
   "cell_type": "markdown",
   "metadata": {},
   "source": [
    "The while loop below, searches for 1's in the array \"events\" and essentially appends the index (the time) of the event to a new array called \"event_times\"."
   ]
  },
  {
   "cell_type": "code",
   "execution_count": 383,
   "metadata": {},
   "outputs": [
    {
     "name": "stdout",
     "output_type": "stream",
     "text": [
      "[21, 22, 26, 35, 193, 194, 195, 196, 218, 223, 225, 226, 287, 288, 289, 290, 292, 309, 315, 406, 810, 811, 812, 814, 843, 844, 983, 984, 985, 993, 994]\n"
     ]
    }
   ],
   "source": [
    "t = 0                         \n",
    "event_times = []              # This array will contain all the event times.\n",
    "while t < j_loops:            \n",
    "    if events[t] == 1:        # Searches for events that show up as 1's in the array \"events\"\n",
    "        event_times.append(t) # Appends the time of the event to the array \"event_times\"\n",
    "    t += 1\n",
    "print(event_times)      "
   ]
  },
  {
   "cell_type": "markdown",
   "metadata": {},
   "source": [
    "Plotting the events as a point process. Each event is represented by a dot."
   ]
  },
  {
   "cell_type": "code",
   "execution_count": 384,
   "metadata": {
    "scrolled": false
   },
   "outputs": [
    {
     "data": {
      "image/png": "[encoded data removed]",
      "text/plain": [
       "<Figure size 1080x144 with 1 Axes>"
      ]
     },
     "metadata": {
      "needs_background": "light"
     },
     "output_type": "display_data"
    }
   ],
   "source": [
    "plt.figure(figsize=(15,2))\n",
    "plt.title(\"Price jumps\")\n",
    "plt.xlabel(\"Days\")\n",
    "_ = plt.plot(event_times[:len(event_times)], np.ones(len(event_times)), 'k.') "
   ]
  },
  {
   "cell_type": "markdown",
   "metadata": {},
   "source": [
    "# Plotting the Intensity function"
   ]
  },
  {
   "cell_type": "markdown",
   "metadata": {},
   "source": [
    "I is an array of 0's which is set to a length of j_loops. I is then converted into a numpy array called \"total\". Numpy arrays allow the corresponding elements of 2 arrays to be added together.\n",
    "\n",
    "The first for loop, loops for each event contained within the array \"event_times\".\n",
    "\n",
    "During each loop, the continuous time t iterates from 0 to the time of the last data point (the length of th array \"events\"). If the the continuous time (t) is less than the time of an event (T), then a 0 is appended to H. However, once t is greater than or equal to T, the value of the expoential kernel is appended to H. \n",
    "\n",
    "This means that the arrival of an event causes the intensity function to jump up by 1, followed by an exponential decay (determined by the decay constant beta which is specified in the \"Variables\" section.\n",
    "\n",
    "H is essentially the value of the exponential kernel for a single event. To combine these single events, we use the numpy array \"total\".\n",
    "\n",
    "After each loop, the values in H are added to their corresponding elements in \"total\". This is repeated until \"total\" is a effectively a superposition of all of the H's. \n",
    "\n",
    "The array \"total\" represents the value of the intensity function over time."
   ]
  },
  {
   "cell_type": "code",
   "execution_count": 385,
   "metadata": {},
   "outputs": [],
   "source": [
    "I = [0]*(j_loops)\n",
    "total = np.array(I)                           # Numpy arrays allow the corresponding elements of 2 arrays to be added together.\n",
    "for time in range(0,len(event_times)):\n",
    "    H = []\n",
    "    T = event_times[time]\n",
    "    for t in range(0, len(events)):\n",
    "        if t >= T:                            # This makes sure that the value before an event occurs is zero.\n",
    "            H.append(np.exp(-beta*(t - T)))\n",
    "        else:\n",
    "            H.append(0)  \n",
    "    h = np.array(H)\n",
    "    total = total + h\n",
    "        "
   ]
  },
  {
   "cell_type": "code",
   "execution_count": 386,
   "metadata": {},
   "outputs": [
    {
     "data": {
      "text/plain": [
       "Text(0, 0.5, '$\\\\exp(t-T)$')"
      ]
     },
     "execution_count": 386,
     "metadata": {},
     "output_type": "execute_result"
    },
    {
     "data": {
      "image/png": "[encoded data removed]",
      "text/plain": [
       "<Figure size 432x288 with 1 Axes>"
      ]
     },
     "metadata": {
      "needs_background": "light"
     },
     "output_type": "display_data"
    }
   ],
   "source": [
    "plt.plot(total)\n",
    "plt.xlabel('$t(days)$')\n",
    "plt.ylabel('$\\exp(t-T)$')"
   ]
  },
  {
   "cell_type": "code",
   "execution_count": 387,
   "metadata": {},
   "outputs": [
    {
     "data": {
      "image/png": "[encoded data removed]",
      "text/plain": [
       "<Figure size 432x288 with 1 Axes>"
      ]
     },
     "metadata": {
      "needs_background": "light"
     },
     "output_type": "display_data"
    }
   ],
   "source": [
    "plt.plot(event_times[:len(event_times)], np.ones(len(event_times))* 0.1, 'k.')\n",
    "_ = plt.plot(np.arange(0, j_loops), total, 'b-')"
   ]
  }
 ],
 "metadata": {
  "kernelspec": {
   "display_name": "Python 3",
   "language": "python",
   "name": "python3"
  },
  "language_info": {
   "codemirror_mode": {
    "name": "ipython",
    "version": 3
   },
   "file_extension": ".py",
   "mimetype": "text/x-python",
   "name": "python",
   "nbconvert_exporter": "python",
   "pygments_lexer": "ipython3",
   "version": "3.7.4"
  }
 },
 "nbformat": 4,
 "nbformat_minor": 2
}
