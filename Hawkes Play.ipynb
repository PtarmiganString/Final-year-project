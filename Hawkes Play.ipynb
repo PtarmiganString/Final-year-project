{
 "cells": [
  {
   "cell_type": "code",
   "execution_count": 490,
   "metadata": {},
   "outputs": [],
   "source": [
    "import numpy as np\n",
    "import pandas as pd\n",
    "import datetime\n",
    "import matplotlib.pyplot as plt\n",
    "import csv\n",
    "\n",
    "#Imported from Cals form to try and get a decent array\n",
    "#Matplot included but not directly needed immediately"
   ]
  },
  {
   "cell_type": "code",
   "execution_count": 491,
   "metadata": {},
   "outputs": [],
   "source": [
    "s_and_p_data = pd.read_csv('S&P5yrSample.csv', usecols = ['Date','Open'])\n",
    "\n",
    "#Reading data from document, must be in same directory\n",
    "#Each column must be defined as the same in the repository"
   ]
  },
  {
   "cell_type": "code",
   "execution_count": 492,
   "metadata": {},
   "outputs": [],
   "source": [
    "s_and_p_data['Date'] = pd.to_datetime(s_and_p_data['Date'])"
   ]
  },
  {
   "cell_type": "code",
   "execution_count": 493,
   "metadata": {},
   "outputs": [
    {
     "data": {
      "text/html": [
       "<div>\n",
       "<style scoped>\n",
       "    .dataframe tbody tr th:only-of-type {\n",
       "        vertical-align: middle;\n",
       "    }\n",
       "\n",
       "    .dataframe tbody tr th {\n",
       "        vertical-align: top;\n",
       "    }\n",
       "\n",
       "    .dataframe thead th {\n",
       "        text-align: right;\n",
       "    }\n",
       "</style>\n",
       "<table border=\"1\" class=\"dataframe\">\n",
       "  <thead>\n",
       "    <tr style=\"text-align: right;\">\n",
       "      <th></th>\n",
       "      <th>Date</th>\n",
       "      <th>Open</th>\n",
       "    </tr>\n",
       "  </thead>\n",
       "  <tbody>\n",
       "    <tr>\n",
       "      <td>0</td>\n",
       "      <td>2014-11-05</td>\n",
       "      <td>2015.290039</td>\n",
       "    </tr>\n",
       "    <tr>\n",
       "      <td>1</td>\n",
       "      <td>2014-11-06</td>\n",
       "      <td>2023.329956</td>\n",
       "    </tr>\n",
       "    <tr>\n",
       "      <td>2</td>\n",
       "      <td>2014-11-07</td>\n",
       "      <td>2032.359985</td>\n",
       "    </tr>\n",
       "    <tr>\n",
       "      <td>3</td>\n",
       "      <td>2014-11-10</td>\n",
       "      <td>2032.010010</td>\n",
       "    </tr>\n",
       "    <tr>\n",
       "      <td>4</td>\n",
       "      <td>2014-11-11</td>\n",
       "      <td>2038.199951</td>\n",
       "    </tr>\n",
       "    <tr>\n",
       "      <td>5</td>\n",
       "      <td>2014-11-12</td>\n",
       "      <td>2037.750000</td>\n",
       "    </tr>\n",
       "    <tr>\n",
       "      <td>6</td>\n",
       "      <td>2014-11-13</td>\n",
       "      <td>2039.209961</td>\n",
       "    </tr>\n",
       "    <tr>\n",
       "      <td>7</td>\n",
       "      <td>2014-11-14</td>\n",
       "      <td>2039.739990</td>\n",
       "    </tr>\n",
       "    <tr>\n",
       "      <td>8</td>\n",
       "      <td>2014-11-17</td>\n",
       "      <td>2038.290039</td>\n",
       "    </tr>\n",
       "    <tr>\n",
       "      <td>9</td>\n",
       "      <td>2014-11-18</td>\n",
       "      <td>2041.479980</td>\n",
       "    </tr>\n",
       "  </tbody>\n",
       "</table>\n",
       "</div>"
      ],
      "text/plain": [
       "        Date         Open\n",
       "0 2014-11-05  2015.290039\n",
       "1 2014-11-06  2023.329956\n",
       "2 2014-11-07  2032.359985\n",
       "3 2014-11-10  2032.010010\n",
       "4 2014-11-11  2038.199951\n",
       "5 2014-11-12  2037.750000\n",
       "6 2014-11-13  2039.209961\n",
       "7 2014-11-14  2039.739990\n",
       "8 2014-11-17  2038.290039\n",
       "9 2014-11-18  2041.479980"
      ]
     },
     "execution_count": 493,
     "metadata": {},
     "output_type": "execute_result"
    }
   ],
   "source": [
    "s_and_p_data.head(10) \n",
    "\n",
    "#Plot using the number of rows in brackets"
   ]
  },
  {
   "cell_type": "code",
   "execution_count": 494,
   "metadata": {
    "scrolled": false
   },
   "outputs": [
    {
     "data": {
      "text/plain": [
       "<matplotlib.axes._subplots.AxesSubplot at 0x1235136d0>"
      ]
     },
     "execution_count": 494,
     "metadata": {},
     "output_type": "execute_result"
    },
    {
     "data": {
      "image/png": "[encoded data removed]",
      "text/plain": [
       "<Figure size 432x288 with 1 Axes>"
      ]
     },
     "metadata": {
      "needs_background": "light"
     },
     "output_type": "display_data"
    }
   ],
   "source": [
    "s_and_p_data.plot(x = 'Date', y = 'Open')"
   ]
  },
  {
   "cell_type": "code",
   "execution_count": 495,
   "metadata": {},
   "outputs": [],
   "source": [
    "#Import CSV as a converted array"
   ]
  },
  {
   "cell_type": "code",
   "execution_count": 496,
   "metadata": {},
   "outputs": [
    {
     "name": "stdout",
     "output_type": "stream",
     "text": [
      "                   Open         High          Low        Close    Adj Close  \\\n",
      "Date                                                                          \n",
      "2014-11-05  2015.290039  2023.770020  2014.420044  2023.569946  2023.569946   \n",
      "2014-11-06  2023.329956  2031.609985  2015.859985  2031.209961  2031.209961   \n",
      "2014-11-07  2032.359985  2034.260010  2025.069946  2031.920044  2031.920044   \n",
      "2014-11-10  2032.010010  2038.699951  2030.170044  2038.260010  2038.260010   \n",
      "2014-11-11  2038.199951  2041.280029  2035.280029  2039.680054  2039.680054   \n",
      "...                 ...          ...          ...          ...          ...   \n",
      "2019-10-28  3032.120117  3044.080078  3032.120117  3039.419922  3039.419922   \n",
      "2019-10-29  3035.389893  3047.870117  3034.810059  3036.889893  3036.889893   \n",
      "2019-10-30  3039.739990  3050.100098  3025.959961  3046.770020  3046.770020   \n",
      "2019-10-31  3046.899902  3046.899902  3023.189941  3037.560059  3037.560059   \n",
      "2019-11-01  3050.719971  3066.949951  3050.719971  3066.909912  3066.909912   \n",
      "\n",
      "                Volume  \n",
      "Date                    \n",
      "2014-11-05  3766590000  \n",
      "2014-11-06  3669770000  \n",
      "2014-11-07  3704280000  \n",
      "2014-11-10  3284940000  \n",
      "2014-11-11  2958320000  \n",
      "...                ...  \n",
      "2019-10-28  3521230000  \n",
      "2019-10-29  3589930000  \n",
      "2019-10-30  3776030000  \n",
      "2019-10-31  4139280000  \n",
      "2019-11-01  3930200000  \n",
      "\n",
      "[1257 rows x 6 columns]\n"
     ]
    }
   ],
   "source": [
    "df = pd.read_csv('S&P5yrSample.csv', index_col='Date')\n",
    "print(df)\n",
    "\n",
    "# Used technique to obtain all data from complete CSV - need to now narrow down to get open values."
   ]
  },
  {
   "cell_type": "code",
   "execution_count": 497,
   "metadata": {},
   "outputs": [
    {
     "name": "stdout",
     "output_type": "stream",
     "text": [
      "Empty DataFrame\n",
      "Columns: []\n",
      "Index: [2015.290039, 2023.3299559999998, 2032.359985, 2032.0100100000002, 2038.199951, 2037.75, 2039.209961, 2039.7399899999998, 2038.290039, 2041.47998, 2051.159912, 2045.869995, 2057.459961, 2065.070068, 2070.149902, 2067.360107, 2074.780029, 2065.780029, 2053.77002, 2067.449951, 2073.639893, 2072.780029, 2074.840088, 2056.550049, 2058.860107, 2027.9200440000002, 2030.359985, 2005.030029, 1986.709961, 1973.77002, 2018.97998, 2061.040039, 2069.280029, 2081.47998, 2083.25, 2084.300049, 2087.6298829999996, 2088.48999, 2082.110107, 2058.899902, 2054.439941, 2022.1500239999998, 2005.550049, 2030.609985, 2063.449951, 2046.130005, 2031.5799559999998, 2018.4000239999998, 2013.75, 1992.25, 2020.7600100000002, 2020.189941, 2034.300049, 2062.97998, 2050.419922, 2047.859985, 2032.339966, 2002.449951, 2019.3499760000002, 1996.6700440000002, 2022.709961, 2048.860107, 2043.449951, 2062.280029, 2053.469971, 2049.3798829999996, 2068.550049, 2069.97998, 2088.780029, 2096.469971, 2099.159912, 2099.25, 2097.649902, 2109.830078, 2109.100098, 2115.300049, 2113.909912, 2110.8798829999996, 2105.22998, 2115.76001, 2107.719971, 2098.540039, 2100.909912, 2072.25, 2076.139893, 2044.689941, 2041.0999760000002, 2064.560059, 2055.350098, 2080.590088, 2072.840088, 2098.689941, 2090.320068, 2107.98999, 2103.939941, 2093.100098, 2059.939941, 2055.780029, 2064.110107, 2084.050049, ...]\n",
      "\n",
      "[1257 rows x 0 columns]\n"
     ]
    }
   ],
   "source": [
    "df = pd.read_csv('OpenOnlyYahoo.csv', index_col='Open')\n",
    "print(df)\n",
    "\n",
    "# Used altered CSV document containing only header open and all results without date stamp - not helpful."
   ]
  },
  {
   "cell_type": "code",
   "execution_count": 498,
   "metadata": {},
   "outputs": [
    {
     "name": "stdout",
     "output_type": "stream",
     "text": [
      "             Open\n",
      "0     2015.290039\n",
      "1     2023.329956\n",
      "2     2032.359985\n",
      "3     2032.010010\n",
      "4     2038.199951\n",
      "...           ...\n",
      "1252  3032.120117\n",
      "1253  3035.389893\n",
      "1254  3039.739990\n",
      "1255  3046.899902\n",
      "1256  3050.719971\n",
      "\n",
      "[1257 rows x 1 columns]\n"
     ]
    }
   ],
   "source": [
    "import pandas\n",
    "df = pd.read_csv('S&P5yrSample.csv', usecols = ['Open'])\n",
    "print(df)\n",
    "\n",
    "# Now used proper technique to obtain data points from complete CSV to get open return values."
   ]
  },
  {
   "cell_type": "code",
   "execution_count": 499,
   "metadata": {},
   "outputs": [
    {
     "name": "stdout",
     "output_type": "stream",
     "text": [
      "            Open\n",
      "100  2067.629883\n"
     ]
    }
   ],
   "source": [
    "print(df.loc[[100]])\n",
    "\n",
    "#prints out 100th entry in the list"
   ]
  },
  {
   "cell_type": "code",
   "execution_count": 500,
   "metadata": {},
   "outputs": [
    {
     "name": "stdout",
     "output_type": "stream",
     "text": [
      "            Open\n",
      "100  2067.629883\n",
      "101  2060.030029\n"
     ]
    }
   ],
   "source": [
    "print(df.loc[[100, 101]])\n",
    "\n",
    "#prints out 100th and 101st entry in the list"
   ]
  },
  {
   "cell_type": "code",
   "execution_count": 501,
   "metadata": {},
   "outputs": [
    {
     "name": "stdout",
     "output_type": "stream",
     "text": [
      "            Open\n",
      "110  2105.959961\n"
     ]
    }
   ],
   "source": [
    "print(df.loc[[110]])"
   ]
  },
  {
   "cell_type": "code",
   "execution_count": 502,
   "metadata": {},
   "outputs": [
    {
     "name": "stdout",
     "output_type": "stream",
     "text": [
      "2067.6298829999996\n"
     ]
    }
   ],
   "source": [
    "print(df.at[100, 'Open'])\n",
    "\n",
    "#Method to obtain the absolute value without label."
   ]
  },
  {
   "cell_type": "code",
   "execution_count": 503,
   "metadata": {},
   "outputs": [
    {
     "name": "stdout",
     "output_type": "stream",
     "text": [
      "4195.419921999999\n"
     ]
    }
   ],
   "source": [
    "x = df.at[100, 'Open']\n",
    "y = df.at[134, 'Open']\n",
    "\n",
    "print(x+y)\n",
    "\n",
    "#The values are now absolute numbers without labels!!!"
   ]
  },
  {
   "cell_type": "code",
   "execution_count": 504,
   "metadata": {},
   "outputs": [
    {
     "name": "stdout",
     "output_type": "stream",
     "text": [
      "[2015.290039, 2023.3299559999998, 2032.359985, 2032.0100100000002, 2038.199951]\n"
     ]
    }
   ],
   "source": [
    "A = []\n",
    "\n",
    "#Creates an empty array into which specified values may be stored\n",
    "\n",
    "for i in range(0,5):\n",
    "    A.append(df.at[i, 'Open'])\n",
    "    i+=1\n",
    "print(A)\n",
    "\n",
    "#For all i values within 0-10, add entry to empty array from row i and column open from original array."
   ]
  },
  {
   "cell_type": "code",
   "execution_count": 505,
   "metadata": {},
   "outputs": [
    {
     "name": "stdout",
     "output_type": "stream",
     "text": [
      "[2015.290039, 2023.3299559999998, 2032.359985, 2032.0100100000002, 2038.199951, 2015.290039, 2023.3299559999998, 2032.359985, 2032.0100100000002, 2038.199951]\n"
     ]
    }
   ],
   "source": [
    "#attempt to calculate mean of first 30 values\n",
    "for i in range(0,5):\n",
    "    A.append(df.at[i, 'Open'])\n",
    "    i+=1\n",
    "print(A)\n",
    "\n"
   ]
  },
  {
   "cell_type": "code",
   "execution_count": 506,
   "metadata": {},
   "outputs": [
    {
     "name": "stdout",
     "output_type": "stream",
     "text": [
      "             Open\n",
      "0             NaN\n",
      "1             NaN\n",
      "2             NaN\n",
      "3             NaN\n",
      "4             NaN\n",
      "...           ...\n",
      "1252  2975.213680\n",
      "1253  2976.537679\n",
      "1254  2977.812345\n",
      "1255  2979.030339\n",
      "1256  2980.440340\n",
      "\n",
      "[1257 rows x 1 columns]\n"
     ]
    }
   ],
   "source": [
    "print(df.rolling(window=30).mean())\n",
    "\n",
    "#Rolling average of previous 30 points, thus first 30 values are zero. Leaves it in dataframe, hard to work with."
   ]
  },
  {
   "cell_type": "code",
   "execution_count": 507,
   "metadata": {},
   "outputs": [
    {
     "name": "stdout",
     "output_type": "stream",
     "text": [
      "[2015.290039, 2023.3299559999998, 2032.359985, 2032.0100100000002, 2038.199951, 2037.75, 2039.209961]\n",
      "The rolling average of this array is: 2031.1642717142859\n",
      "The stand. dev. of this array is: 8.221213732385163\n",
      "\n",
      "[2023.3299559999998, 2032.359985, 2032.0100100000002, 2038.199951, 2037.75, 2039.209961, 2039.7399899999998]\n",
      "The rolling average of this array is: 2034.6571218571428\n",
      "The stand. dev. of this array is: 5.467699328659183\n",
      "\n",
      "[2032.359985, 2032.0100100000002, 2038.199951, 2037.75, 2039.209961, 2039.7399899999998, 2038.290039]\n",
      "The rolling average of this array is: 2036.7942765714286\n",
      "The stand. dev. of this array is: 2.9806888068369717\n",
      "\n",
      "[2032.0100100000002, 2038.199951, 2037.75, 2039.209961, 2039.7399899999998, 2038.290039, 2041.47998]\n",
      "The rolling average of this array is: 2038.097133\n",
      "The stand. dev. of this array is: 2.7412815331576352\n",
      "\n",
      "[2038.199951, 2037.75, 2039.209961, 2039.7399899999998, 2038.290039, 2041.47998, 2051.159912]\n",
      "The rolling average of this array is: 2040.8328332857143\n",
      "The stand. dev. of this array is: 4.371941502698663\n",
      "\n"
     ]
    }
   ],
   "source": [
    "for j in range(0,5):                       #Iteration of j between 0-5\n",
    "    A = []                                 #Create empty array\n",
    "    m = 7                                 #m is the length of the array, points in each array\n",
    "    k = j + m                              #Set new variable k to define the end of the range for iteration\n",
    "    for i in range(j,k):                   #New loop to iterate between j and k\n",
    "        A.append(df.at[i, 'Open'])         #Add value to array - easier to take means of an array\n",
    "        i+=1\n",
    "        \n",
    "    j+=1\n",
    "    print(A)                               #Prints the current array before iterating\n",
    "    print(\"The rolling average of this array is: \" + str(np.mean(A)))     #Prints the average of each array\n",
    "    print(\"The stand. dev. of this array is: \" + str(np.std(A)) + \"\\n\")  #Prints standard deviation from the mean\n",
    "    "
   ]
  },
  {
   "cell_type": "markdown",
   "metadata": {},
   "source": [
    "# Working Code To Isolate Events"
   ]
  },
  {
   "cell_type": "code",
   "execution_count": 508,
   "metadata": {},
   "outputs": [
    {
     "name": "stdout",
     "output_type": "stream",
     "text": [
      "[0, 0, 0, 1, 0, 1, 1, 1, 1, 1, 0, 0, 0, 0, 0, 0, 1, 0, 1, 1, 1, 1, 1, 0, 1, 1, 1, 1, 1, 1, 1, 0, 1, 1, 1, 1, 1, 1, 0, 0, 1, 1, 1, 0, 0, 1, 1, 1, 1, 0, 1, 1, 1, 0, 1, 1, 1, 1, 1, 1, 1, 1, 1, 1, 1, 1, 1, 1, 1, 0, 0, 0, 0, 0, 1, 0, 1, 1, 1, 1, 1, 1, 1, 1, 1, 1, 1, 1, 0, 1, 1, 1, 0, 1, 1, 0, 1, 0, 0, 1]\n",
      "100\n"
     ]
    }
   ],
   "source": [
    "B = []\n",
    "Events = []\n",
    "j_loops = 100\n",
    "\n",
    "\n",
    "for j in range(0,j_loops):                       #Iteration of j, the total points to iterate through (1200)\n",
    "    A = []                                 #Create empty array\n",
    "    m = 8                                  #m is the length of the array/ the no. of points in each array\n",
    "    k = j + m                              #Set new variable k to define the end of the range for iteration\n",
    "    for i in range(j,k):                   #New loop to iterate between j and k\n",
    "        A.append(df.at[i, 'Open'])         #Add value to array - easier to take mean of an array\n",
    "        i+=1\n",
    "        \n",
    "    j+=1\n",
    "    indices = [0,1,2,3,4,5,6]     #Open new array taking only the first m-1 points from first array, allows to average\n",
    "    B = np.take(A, indices)      #Takes all values from array A apart from the last one of interest.\n",
    "    \n",
    "    meanB = np.mean(B)               #Take mean of new array\n",
    "    chosen_value = A[m-1]          #Name new point as the last term in the original array, the one to compare it to\n",
    "    \n",
    "    #Now need to define events as 0.5% change. If the last value in A satisfies these conditions then print 1\n",
    "    #If value is not satisfied then print 0, with all 1's signifying an event. \n",
    "    \n",
    "    event_threshold = 1.005     #Event threshold of 5% \n",
    "    \n",
    "    if chosen_value > (event_threshold)*meanB:\n",
    "        Events.append(1)\n",
    "    elif chosen_value < (1/event_threshold)*meanB:\n",
    "        Events.append(1)\n",
    "    else: \n",
    "        Events.append(0)\n",
    "    \n",
    "print(Events)\n",
    "print(len(Events))"
   ]
  },
  {
   "cell_type": "code",
   "execution_count": 509,
   "metadata": {},
   "outputs": [
    {
     "data": {
      "image/png": "[encoded data removed]",
      "text/plain": [
       "<Figure size 432x288 with 1 Axes>"
      ]
     },
     "metadata": {
      "needs_background": "light"
     },
     "output_type": "display_data"
    }
   ],
   "source": [
    "plt.plot(Events)\n",
    "plt.xlabel('Time [Days]');\n",
    "plt.ylabel('Event');\n",
    "plt.title('Event Plot Over Time');"
   ]
  },
  {
   "cell_type": "code",
   "execution_count": 510,
   "metadata": {},
   "outputs": [
    {
     "name": "stdout",
     "output_type": "stream",
     "text": [
      "[3, 5, 6, 7, 8, 9, 16, 18, 19, 20, 21, 22, 24, 25, 26, 27, 28, 29, 30, 32, 33, 34, 35, 36, 37, 40, 41, 42, 45, 46, 47, 48, 50, 51, 52, 54, 55, 56, 57, 58, 59, 60, 61, 62, 63, 64, 65, 66, 67, 68, 74, 76, 77, 78, 79, 80, 81, 82, 83, 84, 85, 86, 87, 89, 90, 91, 93, 94, 96, 99]\n",
      "\n",
      "70\n"
     ]
    }
   ],
   "source": [
    "t = 0\n",
    "event_times = []\n",
    "                                                        #Generating a sequence of timestamps for all events\n",
    "while t < j_loops:\n",
    "    if (Events[t] == 1): \n",
    "        event_times.append(t)\n",
    "    t += 1\n",
    "\n",
    "print(event_times)\n",
    "print(\"\")\n",
    "print(len(event_times))\n",
    "\n"
   ]
  },
  {
   "cell_type": "code",
   "execution_count": 511,
   "metadata": {
    "scrolled": true
   },
   "outputs": [
    {
     "data": {
      "image/png": "[encoded data removed]",
      "text/plain": [
       "<Figure size 1080x144 with 1 Axes>"
      ]
     },
     "metadata": {
      "needs_background": "light"
     },
     "output_type": "display_data"
    }
   ],
   "source": [
    "plt.figure(figsize=(15,2))\n",
    "plt.title(\"Price Jumps Causing Events\")\n",
    "plt.xlabel(\"Days\")\n",
    "_ = plt.plot(event_times[:len(event_times)], np.ones(len(event_times)),'k.')"
   ]
  },
  {
   "cell_type": "markdown",
   "metadata": {},
   "source": [
    "# Exponental Kernel"
   ]
  },
  {
   "cell_type": "code",
   "execution_count": 512,
   "metadata": {},
   "outputs": [
    {
     "data": {
      "image/png": "[encoded data removed]",
      "text/plain": [
       "<Figure size 432x288 with 1 Axes>"
      ]
     },
     "metadata": {
      "needs_background": "light"
     },
     "output_type": "display_data"
    }
   ],
   "source": [
    "beta = 0.5     #Exponential factor to be adjusted\n",
    "\n",
    "t = np.linspace(0, 10, 100)                #starting point, end point, resolution\n",
    "y = np.exp(-beta*t)\n",
    "\n",
    "plt.figure()\n",
    "plt.plot(t,y)\n",
    "plt.xlabel('$t$')\n",
    "plt.ylabel('$exp(-t)$')\n",
    "\n",
    "plt.show()\n",
    "\n",
    "\n",
    "#Just playing to produce an exponential function"
   ]
  },
  {
   "cell_type": "code",
   "execution_count": 513,
   "metadata": {},
   "outputs": [
    {
     "name": "stdout",
     "output_type": "stream",
     "text": [
      "[0.         0.         0.         1.         0.60653066 1.36787944\n",
      " 1.82966082 2.10974538 2.27962526 2.38266261 1.44515793 0.87653259\n",
      " 0.53164389 0.32245832 0.19558086 0.11862579 1.07195018 0.65017065\n",
      " 1.39434843 1.84571507 2.11948278 2.28553129 2.3862448  1.44733063\n",
      " 1.8778504  2.13897384 2.29735322 2.39341516 2.45167968 2.48701889\n",
      " 2.50845321 1.52145378 1.92280836 2.16624223 2.31389233 2.40344664\n",
      " 2.45776408 2.49070927 1.51069153 0.91628073 1.55575236 1.9436115\n",
      " 2.17885997 1.32154537 0.80155779 1.48616937 1.90140729 2.15326182\n",
      " 2.30601931 1.39867141 1.8483371  2.12107312 2.28649588 1.38682985\n",
      " 1.84115483 2.11671685 2.28385367 2.38522727 2.44671347 2.48400674\n",
      " 2.50662624 2.52034567 2.52866692 2.53371402 2.53677523 2.53863196\n",
      " 2.53975812 2.54044117 2.54085546 1.54110674 0.93472849 0.56694148\n",
      " 0.34386739 0.20856612 1.12650174 0.68325785 1.41441683 1.85788717\n",
      " 2.12686553 2.29000916 2.38896076 2.44897795 2.48538021 2.5074593\n",
      " 2.52085094 2.52897339 2.5338999  2.53688798 1.53870034 1.93326893\n",
      " 2.17258688 2.31774055 1.40578071 1.8526491  2.12368848 1.28808218\n",
      " 1.78126133 1.08038961 0.65528942 1.39745313]\n"
     ]
    }
   ],
   "source": [
    "beta = 0.5     #Exponential factor to be adjusted\n",
    "t = 0\n",
    "I = [0] * len(H)\n",
    "total = np.array(I)\n",
    "\n",
    "for d in range(0,len(event_times)):\n",
    "    T = event_times[d]\n",
    "    H = []\n",
    "    for t in range(0, len(Events)):          #Iteration range, defining how many points in array\n",
    "        if t >= T:    \n",
    "            H.append(np.exp(-beta*(t-T)))\n",
    "        else:\n",
    "            H.append(0)\n",
    "    \n",
    "    h = np.array(H)\n",
    "    total = total + h\n",
    "print(total)\n",
    "\n",
    "#Generate an array for each event point, starting with a value of 1 for t = T\n",
    "#Array is zero for t<T and so don't get any silly values\n"
   ]
  },
  {
   "cell_type": "code",
   "execution_count": 514,
   "metadata": {},
   "outputs": [
    {
     "data": {
      "text/plain": [
       "[<matplotlib.lines.Line2D at 0x1238855d0>]"
      ]
     },
     "execution_count": 514,
     "metadata": {},
     "output_type": "execute_result"
    },
    {
     "data": {
      "image/png": "[encoded data removed]",
      "text/plain": [
       "<Figure size 432x288 with 1 Axes>"
      ]
     },
     "metadata": {
      "needs_background": "light"
     },
     "output_type": "display_data"
    }
   ],
   "source": [
    "plt.xlabel('$t$')\n",
    "plt.ylabel('$Total)$')\n",
    "\n",
    "plt.plot(total)\n",
    "\n",
    "#Plot new array starting from 0 indefinetely. \n",
    "#Check out this plot - is sick."
   ]
  },
  {
   "cell_type": "code",
   "execution_count": null,
   "metadata": {},
   "outputs": [],
   "source": []
  }
 ],
 "metadata": {
  "kernelspec": {
   "display_name": "Python 3",
   "language": "python",
   "name": "python3"
  },
  "language_info": {
   "codemirror_mode": {
    "name": "ipython",
    "version": 3
   },
   "file_extension": ".py",
   "mimetype": "text/x-python",
   "name": "python",
   "nbconvert_exporter": "python",
   "pygments_lexer": "ipython3",
   "version": "3.7.4"
  }
 },
 "nbformat": 4,
 "nbformat_minor": 2
}
