{
 "cells": [
  {
   "cell_type": "code",
   "execution_count": 321,
   "metadata": {},
   "outputs": [],
   "source": [
    "import pandas as pd \n",
    "import numpy as np\n",
    "import matplotlib.pyplot as plt\n",
    "import glob\n",
    "from statsmodels.graphics.tsaplots import acf\n",
    "from scipy.signal import periodogram\n",
    "from scipy.spatial import distance\n",
    "from sklearn.linear_model import LinearRegression\n",
    "from sklearn import metrics\n",
    "\n",
    "\n",
    "\n",
    "import Lyapunov_funcs ### Functs from Lyapunov proof of concept notebook"
   ]
  },
  {
   "cell_type": "markdown",
   "metadata": {},
   "source": [
    "# Get data"
   ]
  },
  {
   "cell_type": "code",
   "execution_count": 93,
   "metadata": {
    "scrolled": false
   },
   "outputs": [
    {
     "data": {
      "text/html": [
       "<div>\n",
       "<style scoped>\n",
       "    .dataframe tbody tr th:only-of-type {\n",
       "        vertical-align: middle;\n",
       "    }\n",
       "\n",
       "    .dataframe tbody tr th {\n",
       "        vertical-align: top;\n",
       "    }\n",
       "\n",
       "    .dataframe thead th {\n",
       "        text-align: right;\n",
       "    }\n",
       "</style>\n",
       "<table border=\"1\" class=\"dataframe\">\n",
       "  <thead>\n",
       "    <tr style=\"text-align: right;\">\n",
       "      <th></th>\n",
       "      <th>DATE</th>\n",
       "      <th>TIMESTAMP</th>\n",
       "      <th>OPEN</th>\n",
       "      <th>HIGH</th>\n",
       "      <th>LOW</th>\n",
       "      <th>CLOSE</th>\n",
       "      <th>VOL</th>\n",
       "    </tr>\n",
       "  </thead>\n",
       "  <tbody>\n",
       "    <tr>\n",
       "      <td>0</td>\n",
       "      <td>2015-03-02</td>\n",
       "      <td>2015-03-02 09:35:00</td>\n",
       "      <td>2105.23</td>\n",
       "      <td>2106.37</td>\n",
       "      <td>2104.50</td>\n",
       "      <td>2106.27</td>\n",
       "      <td>245</td>\n",
       "    </tr>\n",
       "    <tr>\n",
       "      <td>1</td>\n",
       "      <td>2015-03-02</td>\n",
       "      <td>2015-03-02 09:40:00</td>\n",
       "      <td>2106.31</td>\n",
       "      <td>2107.32</td>\n",
       "      <td>2106.31</td>\n",
       "      <td>2106.78</td>\n",
       "      <td>234</td>\n",
       "    </tr>\n",
       "    <tr>\n",
       "      <td>2</td>\n",
       "      <td>2015-03-02</td>\n",
       "      <td>2015-03-02 09:45:00</td>\n",
       "      <td>2106.80</td>\n",
       "      <td>2107.29</td>\n",
       "      <td>2106.09</td>\n",
       "      <td>2106.89</td>\n",
       "      <td>234</td>\n",
       "    </tr>\n",
       "    <tr>\n",
       "      <td>3</td>\n",
       "      <td>2015-03-02</td>\n",
       "      <td>2015-03-02 09:50:00</td>\n",
       "      <td>2106.91</td>\n",
       "      <td>2108.75</td>\n",
       "      <td>2106.91</td>\n",
       "      <td>2108.69</td>\n",
       "      <td>223</td>\n",
       "    </tr>\n",
       "    <tr>\n",
       "      <td>4</td>\n",
       "      <td>2015-03-02</td>\n",
       "      <td>2015-03-02 09:55:00</td>\n",
       "      <td>2108.71</td>\n",
       "      <td>2109.46</td>\n",
       "      <td>2108.71</td>\n",
       "      <td>2109.24</td>\n",
       "      <td>198</td>\n",
       "    </tr>\n",
       "  </tbody>\n",
       "</table>\n",
       "</div>"
      ],
      "text/plain": [
       "        DATE           TIMESTAMP     OPEN     HIGH      LOW    CLOSE  VOL\n",
       "0 2015-03-02 2015-03-02 09:35:00  2105.23  2106.37  2104.50  2106.27  245\n",
       "1 2015-03-02 2015-03-02 09:40:00  2106.31  2107.32  2106.31  2106.78  234\n",
       "2 2015-03-02 2015-03-02 09:45:00  2106.80  2107.29  2106.09  2106.89  234\n",
       "3 2015-03-02 2015-03-02 09:50:00  2106.91  2108.75  2106.91  2108.69  223\n",
       "4 2015-03-02 2015-03-02 09:55:00  2108.71  2109.46  2108.71  2109.24  198"
      ]
     },
     "execution_count": 93,
     "metadata": {},
     "output_type": "execute_result"
    }
   ],
   "source": [
    "path = \"/Users/calumthompson/Documents/Final year project/Data/S&P500 March2015+/*\"   #put folder data is in here\n",
    "\n",
    "data_merge = []\n",
    "\n",
    "for fname in glob.glob(path):\n",
    "    x = pd.read_csv(fname)\n",
    "    \n",
    "    data_merge.append(x)\n",
    "\n",
    "SandP_df = pd.concat(data_merge)\n",
    "\n",
    "SandP_df.columns = SandP_df.columns.str.replace(\"<\",\"\").str.replace(\">\",\"\")\n",
    "\n",
    "SandP_df['TIMESTAMP'] = SandP_df['DATE'].astype(str) + SandP_df['TIME'].astype(str)\n",
    "SandP_df['TIMESTAMP'] = pd.to_datetime(SandP_df['TIMESTAMP'] ,format='%Y%m%d%H%M%S')\n",
    "SandP_df['DATE'] = pd.to_datetime(SandP_df['DATE'] ,format='%Y%m%d')\n",
    "SandP_df = SandP_df.drop(axis =1, labels = [\"TICKER\",\"PER\", \"TIME\"])\n",
    "\n",
    "SandP_df = SandP_df[['DATE','TIMESTAMP','OPEN','HIGH','LOW','CLOSE','VOL']]\n",
    "SandP_df = SandP_df.sort_values('TIMESTAMP')\n",
    "SandP_df.head()"
   ]
  },
  {
   "cell_type": "code",
   "execution_count": 94,
   "metadata": {
    "scrolled": false
   },
   "outputs": [
    {
     "data": {
      "image/png": "[encoded data removed]",
      "text/plain": [
       "<Figure size 432x288 with 1 Axes>"
      ]
     },
     "metadata": {
      "needs_background": "light"
     },
     "output_type": "display_data"
    }
   ],
   "source": [
    "plt.plot(SandP_df['TIMESTAMP'], SandP_df['CLOSE'])\n",
    "plt.show()"
   ]
  },
  {
   "cell_type": "markdown",
   "metadata": {},
   "source": [
    "# Get subset of test data"
   ]
  },
  {
   "cell_type": "code",
   "execution_count": 143,
   "metadata": {
    "scrolled": true
   },
   "outputs": [
    {
     "data": {
      "text/html": [
       "<div>\n",
       "<style scoped>\n",
       "    .dataframe tbody tr th:only-of-type {\n",
       "        vertical-align: middle;\n",
       "    }\n",
       "\n",
       "    .dataframe tbody tr th {\n",
       "        vertical-align: top;\n",
       "    }\n",
       "\n",
       "    .dataframe thead th {\n",
       "        text-align: right;\n",
       "    }\n",
       "</style>\n",
       "<table border=\"1\" class=\"dataframe\">\n",
       "  <thead>\n",
       "    <tr style=\"text-align: right;\">\n",
       "      <th></th>\n",
       "      <th>DATE</th>\n",
       "      <th>TIMESTAMP</th>\n",
       "      <th>OPEN</th>\n",
       "      <th>HIGH</th>\n",
       "      <th>LOW</th>\n",
       "      <th>CLOSE</th>\n",
       "      <th>VOL</th>\n",
       "    </tr>\n",
       "  </thead>\n",
       "  <tbody>\n",
       "    <tr>\n",
       "      <td>16885</td>\n",
       "      <td>2017-01-04</td>\n",
       "      <td>2017-01-04 09:35:00</td>\n",
       "      <td>2261.60</td>\n",
       "      <td>2266.89</td>\n",
       "      <td>2261.60</td>\n",
       "      <td>2266.75</td>\n",
       "      <td>264</td>\n",
       "    </tr>\n",
       "    <tr>\n",
       "      <td>16886</td>\n",
       "      <td>2017-01-04</td>\n",
       "      <td>2017-01-04 09:40:00</td>\n",
       "      <td>2266.90</td>\n",
       "      <td>2268.46</td>\n",
       "      <td>2264.94</td>\n",
       "      <td>2264.94</td>\n",
       "      <td>262</td>\n",
       "    </tr>\n",
       "    <tr>\n",
       "      <td>16887</td>\n",
       "      <td>2017-01-04</td>\n",
       "      <td>2017-01-04 09:45:00</td>\n",
       "      <td>2264.92</td>\n",
       "      <td>2266.92</td>\n",
       "      <td>2264.63</td>\n",
       "      <td>2264.66</td>\n",
       "      <td>265</td>\n",
       "    </tr>\n",
       "    <tr>\n",
       "      <td>16888</td>\n",
       "      <td>2017-01-04</td>\n",
       "      <td>2017-01-04 09:50:00</td>\n",
       "      <td>2264.67</td>\n",
       "      <td>2266.37</td>\n",
       "      <td>2264.67</td>\n",
       "      <td>2265.65</td>\n",
       "      <td>257</td>\n",
       "    </tr>\n",
       "    <tr>\n",
       "      <td>16889</td>\n",
       "      <td>2017-01-04</td>\n",
       "      <td>2017-01-04 09:55:00</td>\n",
       "      <td>2265.67</td>\n",
       "      <td>2266.98</td>\n",
       "      <td>2265.67</td>\n",
       "      <td>2266.74</td>\n",
       "      <td>259</td>\n",
       "    </tr>\n",
       "    <tr>\n",
       "      <td>...</td>\n",
       "      <td>...</td>\n",
       "      <td>...</td>\n",
       "      <td>...</td>\n",
       "      <td>...</td>\n",
       "      <td>...</td>\n",
       "      <td>...</td>\n",
       "      <td>...</td>\n",
       "    </tr>\n",
       "    <tr>\n",
       "      <td>16959</td>\n",
       "      <td>2017-01-04</td>\n",
       "      <td>2017-01-04 15:45:00</td>\n",
       "      <td>2272.15</td>\n",
       "      <td>2272.82</td>\n",
       "      <td>2272.13</td>\n",
       "      <td>2272.15</td>\n",
       "      <td>194</td>\n",
       "    </tr>\n",
       "    <tr>\n",
       "      <td>16960</td>\n",
       "      <td>2017-01-04</td>\n",
       "      <td>2017-01-04 15:50:00</td>\n",
       "      <td>2272.16</td>\n",
       "      <td>2272.55</td>\n",
       "      <td>2270.09</td>\n",
       "      <td>2270.18</td>\n",
       "      <td>229</td>\n",
       "    </tr>\n",
       "    <tr>\n",
       "      <td>16961</td>\n",
       "      <td>2017-01-04</td>\n",
       "      <td>2017-01-04 15:55:00</td>\n",
       "      <td>2270.17</td>\n",
       "      <td>2271.03</td>\n",
       "      <td>2270.17</td>\n",
       "      <td>2270.71</td>\n",
       "      <td>219</td>\n",
       "    </tr>\n",
       "    <tr>\n",
       "      <td>16962</td>\n",
       "      <td>2017-01-04</td>\n",
       "      <td>2017-01-04 16:00:00</td>\n",
       "      <td>2270.78</td>\n",
       "      <td>2271.42</td>\n",
       "      <td>2269.68</td>\n",
       "      <td>2270.50</td>\n",
       "      <td>203</td>\n",
       "    </tr>\n",
       "    <tr>\n",
       "      <td>16963</td>\n",
       "      <td>2017-01-04</td>\n",
       "      <td>2017-01-04 16:05:00</td>\n",
       "      <td>2270.53</td>\n",
       "      <td>2270.76</td>\n",
       "      <td>2270.53</td>\n",
       "      <td>2270.75</td>\n",
       "      <td>26</td>\n",
       "    </tr>\n",
       "  </tbody>\n",
       "</table>\n",
       "<p>79 rows × 7 columns</p>\n",
       "</div>"
      ],
      "text/plain": [
       "            DATE           TIMESTAMP     OPEN     HIGH      LOW    CLOSE  VOL\n",
       "16885 2017-01-04 2017-01-04 09:35:00  2261.60  2266.89  2261.60  2266.75  264\n",
       "16886 2017-01-04 2017-01-04 09:40:00  2266.90  2268.46  2264.94  2264.94  262\n",
       "16887 2017-01-04 2017-01-04 09:45:00  2264.92  2266.92  2264.63  2264.66  265\n",
       "16888 2017-01-04 2017-01-04 09:50:00  2264.67  2266.37  2264.67  2265.65  257\n",
       "16889 2017-01-04 2017-01-04 09:55:00  2265.67  2266.98  2265.67  2266.74  259\n",
       "...          ...                 ...      ...      ...      ...      ...  ...\n",
       "16959 2017-01-04 2017-01-04 15:45:00  2272.15  2272.82  2272.13  2272.15  194\n",
       "16960 2017-01-04 2017-01-04 15:50:00  2272.16  2272.55  2270.09  2270.18  229\n",
       "16961 2017-01-04 2017-01-04 15:55:00  2270.17  2271.03  2270.17  2270.71  219\n",
       "16962 2017-01-04 2017-01-04 16:00:00  2270.78  2271.42  2269.68  2270.50  203\n",
       "16963 2017-01-04 2017-01-04 16:05:00  2270.53  2270.76  2270.53  2270.75   26\n",
       "\n",
       "[79 rows x 7 columns]"
      ]
     },
     "execution_count": 143,
     "metadata": {},
     "output_type": "execute_result"
    }
   ],
   "source": [
    "# for testing, get subset of data for 4th-11th Jan 2017\n",
    "\n",
    "test_data = SandP_df.loc[(SandP_df['DATE'] == '2017-01-04') ]\n",
    "test_data"
   ]
  },
  {
   "cell_type": "markdown",
   "metadata": {},
   "source": [
    "# Functions"
   ]
  },
  {
   "cell_type": "markdown",
   "metadata": {},
   "source": [
    "## Find lag $J$\n"
   ]
  },
  {
   "cell_type": "code",
   "execution_count": 115,
   "metadata": {},
   "outputs": [],
   "source": [
    "def compute_lag(data, plot = False):\n",
    "\n",
    "    autocorr = acf(data, fft = True, nlags = 500)\n",
    "\n",
    "    if (plot):\n",
    "        plt.plot(autocorr)\n",
    "        plt.axhline(1 - 1/np.e, linestyle = \"--\", c = 'k', label = '1-1/e')\n",
    "        plt.legend(loc = 'best')\n",
    "        \n",
    "    i = 0\n",
    "        \n",
    "    while (autocorr[i] > (1-1/np.e)):\n",
    "        lag = autocorr[i]\n",
    "        i += 1\n",
    "        \n",
    "    if (plot):\n",
    "        plt.axvline(i)\n",
    "\n",
    "    return i"
   ]
  },
  {
   "cell_type": "code",
   "execution_count": 123,
   "metadata": {
    "scrolled": true
   },
   "outputs": [
    {
     "data": {
      "text/plain": [
       "7"
      ]
     },
     "execution_count": 123,
     "metadata": {},
     "output_type": "execute_result"
    },
    {
     "data": {
      "image/png": "[encoded data removed]",
      "text/plain": [
       "<Figure size 432x288 with 1 Axes>"
      ]
     },
     "metadata": {
      "needs_background": "light"
     },
     "output_type": "display_data"
    }
   ],
   "source": [
    "test_data = test_data.loc[test_data['DATE'] == '2017-01-04']\n",
    "compute_lag(test['OPEN'], plot = True)"
   ]
  },
  {
   "cell_type": "markdown",
   "metadata": {},
   "source": [
    "## Embedding dimension $m$\n",
    "- Time series is 1 dimensional therefore m > 2\n",
    "- Do multiple tests to assess best embedding dimension\n",
    "- Rich working on Cao's method\n"
   ]
  },
  {
   "cell_type": "code",
   "execution_count": 124,
   "metadata": {},
   "outputs": [],
   "source": [
    "def compute_embedding_dimension():\n",
    "    return 2"
   ]
  },
  {
   "cell_type": "markdown",
   "metadata": {},
   "source": [
    "## Calculate mean period $\\mu$"
   ]
  },
  {
   "cell_type": "code",
   "execution_count": 126,
   "metadata": {},
   "outputs": [],
   "source": [
    "def compute_mean_period (timeseries):\n",
    "    power_spectrum = periodogram(timeseries)[1]\n",
    "    frequencies = periodogram(timeseries)[0]\n",
    "\n",
    "    \n",
    "    weights = power_spectrum / sum(power_spectrum)\n",
    "    return 1/np.average(frequencies, weights = weights)"
   ]
  },
  {
   "cell_type": "markdown",
   "metadata": {},
   "source": [
    "## Encode into phase space"
   ]
  },
  {
   "cell_type": "code",
   "execution_count": 174,
   "metadata": {},
   "outputs": [],
   "source": [
    "def gen_phase_space_matrix(timeseries, J, m):\n",
    "    \n",
    "    timeseries = timeseries.to_list()\n",
    "    \n",
    "    matrix = pd.DataFrame(columns = np.arange(0,m))\n",
    "        \n",
    "    for i, val in enumerate(timeseries):\n",
    "        \n",
    "        x_i = []\n",
    "\n",
    "        for it in range(0, m):\n",
    "            \n",
    "            try:\n",
    "                i_plus_j = timeseries[i + J*it]\n",
    "                x_i.append(i_plus_j)\n",
    "            except:\n",
    "                x_i.append(np.nan)\n",
    "                \n",
    "        \n",
    "        matrix.loc[i] = x_i\n",
    "    return matrix"
   ]
  },
  {
   "cell_type": "markdown",
   "metadata": {},
   "source": [
    "## Find initial nearest neighbours"
   ]
  },
  {
   "cell_type": "code",
   "execution_count": 271,
   "metadata": {},
   "outputs": [],
   "source": [
    "def euc_distance (p1, p2):\n",
    "    \n",
    "    try: \n",
    "        return distance.euclidean (p1,p2)\n",
    "    except:\n",
    "        return np.inf"
   ]
  },
  {
   "cell_type": "code",
   "execution_count": 276,
   "metadata": {},
   "outputs": [],
   "source": [
    "def find_nearest_neighbour (dataframe, ref_index, mean_period, i_max = 5):\n",
    "    \n",
    "    dists = []\n",
    "    ref_row = dataframe.iloc[ref_index, :].values\n",
    "    \n",
    "    for i in range(0,dataframe.shape[0] - i_max):\n",
    "        \n",
    "        test_row = dataframe.iloc[i, :].values\n",
    "        \n",
    "#         print(\"\")\n",
    "#         print(\"i = \", i, \" ref = \", ref_index, \" diff = \", abs(i-ref_index),\" mean period = \", mean_period )\n",
    "                \n",
    "        if i != ref_index and abs(i-ref_index) > mean_period:\n",
    "            \n",
    "#             print(\"ref = \", ref_row)\n",
    "#             print(\"test = \", test_row)\n",
    "\n",
    "            dist = euc_distance(ref_row, test_row)\n",
    "        else:\n",
    "            dist = np.inf\n",
    "       \n",
    "        #print('dist = ', dist)\n",
    "        dists.append(dist)\n",
    "        \n",
    "    dists = pd.DataFrame(dists,columns = ['euc_distance'])\n",
    "    dists = dists.sort_values(by = 'euc_distance', ascending = True)    \n",
    "    \n",
    "    \n",
    "    if (dists.head(1)['euc_distance'].values  == np.inf):\n",
    "        print('Nearest neighbour not found for index ', ref_index)\n",
    "        return np.nan\n",
    "    else:\n",
    "        return dists.head(1).index.values[0]"
   ]
  },
  {
   "cell_type": "markdown",
   "metadata": {},
   "source": [
    "## Compute divergence\n"
   ]
  },
  {
   "cell_type": "code",
   "execution_count": 182,
   "metadata": {},
   "outputs": [],
   "source": [
    "def compute_divergence(dataframe, NN_pairs, i_max = 5): \n",
    "    \n",
    "    dj_data = []\n",
    "    \n",
    "    for i in range (0,i_max): # calculate divergence through i_max steps\n",
    "        \n",
    "        dj_i = []\n",
    "    \n",
    "        for k in range (0,(dataframe.shape[0] - i_max)): # compute for all nearest neighbour pairs \n",
    "            \n",
    "            NN_1 = NN_pairs[k][0]\n",
    "            NN_2 = NN_pairs[k][1]\n",
    "            \n",
    "            p1 = dataframe.iloc[NN_1 + i, :]\n",
    "            p2 = dataframe.iloc[NN_2 + i, :]\n",
    "            \n",
    "            dj_i.append(euc_distance(p1,p2))\n",
    "                \n",
    "        \n",
    "        dj_data.append([i,np.mean(np.log(dj_i))])\n",
    "        \n",
    "\n",
    "    return dj_data"
   ]
  },
  {
   "cell_type": "markdown",
   "metadata": {},
   "source": [
    "# Apply to data series"
   ]
  },
  {
   "cell_type": "code",
   "execution_count": 329,
   "metadata": {},
   "outputs": [],
   "source": [
    "def calc_daily_lyapunov_exponent(dataframe, date, column = \"OPEN\", i_max = 5, plot = False):\n",
    "    \n",
    "    regressor = LinearRegression()  \n",
    "    \n",
    "    time_series = dataframe.loc[dataframe[\"DATE\"] == date][column]\n",
    "        \n",
    "    J = compute_lag(time_series, plot = False)\n",
    "    m = compute_embedding_dimension()\n",
    "    mu = compute_mean_period(time_series)\n",
    "    \n",
    "    print(\"Date = \", date)\n",
    "    print(\"\")\n",
    "    \n",
    "    print(\"lag J = \", J)\n",
    "    print(\"embedding dimension m = \", m)\n",
    "    print(\"period mu = \", mu)\n",
    "    \n",
    "    matrix = gen_phase_space_matrix(time_series, J, m)\n",
    "    matrix = matrix.dropna() ## drop rows that are missing a phase space co-ord (due to lag taking past end of list)\n",
    "        \n",
    "    NN_pairs = []\n",
    "\n",
    "    for i in range(0,matrix.shape[0]):\n",
    "        NN = find_nearest_neighbour(matrix, ref_index= i, mean_period = mu, i_max = i_max)\n",
    "        NN_pairs.append([i,NN])\n",
    "        \n",
    "    lyaponov_data = pd.DataFrame(compute_divergence(matrix, NN_pairs, i_max = i_max), columns = ['i','log(dj)'])\n",
    "    \n",
    "    \n",
    "    y = lyaponov_data['log(dj)'].values.reshape(-1,1)\n",
    "    x = lyaponov_data['i'].values.reshape(-1,1)\n",
    "    \n",
    "    regressor.fit(x,y)\n",
    "    \n",
    "    fit = regressor.predict(x) \n",
    "    \n",
    "    slope = regressor.coef_[0][0]\n",
    "    error = metrics.mean_absolute_error(y, fit)  \n",
    "    r_squared = metrics.r2_score(y,fit)\n",
    "\n",
    "    print(\"\")\n",
    "\n",
    "    print(\"Lyapunov exponent = \", slope, \"+/-\", error)\n",
    "    print(\"R squared = \", r_squared)\n",
    "                           \n",
    "    \n",
    "    if (plot):\n",
    "        lyaponov_data.plot(x = 'i', y = 'log(dj)')\n",
    "        plt.plot (x, fit, c = 'k')\n",
    "        plt.ylabel(\"log dj\")\n",
    "        plt.xlabel(\"i\")\n",
    "\n",
    "    \n",
    "    return lyaponov_data"
   ]
  },
  {
   "cell_type": "code",
   "execution_count": 331,
   "metadata": {
    "scrolled": true
   },
   "outputs": [
    {
     "name": "stdout",
     "output_type": "stream",
     "text": [
      "Date =  2017-01-04\n",
      "\n",
      "lag J =  7\n",
      "embedding dimension m =  2\n",
      "period mu =  15.939631609628501\n",
      "\n",
      "Lyapunov exponent =  0.16158644885250661 +/- 0.08363245774175092\n",
      "R squared =  0.830285383853922\n"
     ]
    },
    {
     "data": {
      "image/png": "[encoded data removed]",
      "text/plain": [
       "<Figure size 432x288 with 1 Axes>"
      ]
     },
     "metadata": {
      "needs_background": "light"
     },
     "output_type": "display_data"
    }
   ],
   "source": [
    "test = calc_daily_lyapunov_exponent(SandP_df, '2017-01-04', i_max = 5, plot = True)"
   ]
  },
  {
   "cell_type": "code",
   "execution_count": 331,
   "metadata": {
    "scrolled": true
   },
   "outputs": [
    {
     "name": "stdout",
     "output_type": "stream",
     "text": [
      "Date =  2017-01-04\n",
      "\n",
      "lag J =  7\n",
      "embedding dimension m =  2\n",
      "period mu =  15.939631609628501\n",
      "\n",
      "Lyapunov exponent =  0.16158644885250661 +/- 0.08363245774175092\n",
      "R squared =  0.830285383853922\n"
     ]
    },
    {
     "data": {
      "image/png": "[encoded data removed]",
      "text/plain": [
       "<Figure size 432x288 with 1 Axes>"
      ]
     },
     "metadata": {
      "needs_background": "light"
     },
     "output_type": "display_data"
    }
   ],
   "source": [
    "test = calc_daily_lyapunov_exponent(SandP_df, '2017-01-04', i_max = 5, plot = True)"
   ]
  }
 ],
 "metadata": {
  "kernelspec": {
   "display_name": "Python 3",
   "language": "python",
   "name": "python3"
  },
  "language_info": {
   "codemirror_mode": {
    "name": "ipython",
    "version": 3
   },
   "file_extension": ".py",
   "mimetype": "text/x-python",
   "name": "python",
   "nbconvert_exporter": "python",
   "pygments_lexer": "ipython3",
   "version": "3.7.4"
  }
 },
 "nbformat": 4,
 "nbformat_minor": 2
}
