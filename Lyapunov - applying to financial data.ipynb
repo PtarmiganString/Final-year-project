{
 "cells": [
  {
   "cell_type": "code",
   "execution_count": 4,
   "metadata": {},
   "outputs": [],
   "source": [
    "import pandas as pd \n",
    "import numpy as np\n",
    "import matplotlib.pyplot as plt\n",
    "import glob\n",
    "\n",
    "import Lyapunov_funcs ### Functs from Lyapunov proof of concept notebook"
   ]
  },
  {
   "cell_type": "markdown",
   "metadata": {},
   "source": [
    "# Get data"
   ]
  },
  {
   "cell_type": "code",
   "execution_count": 102,
   "metadata": {
    "scrolled": true
   },
   "outputs": [],
   "source": [
    "path = \"/Users/calumthompson/Documents/Final year project/Data/S&P500 March2015+/*\"\n",
    "\n",
    "data_merge = []\n",
    "\n",
    "for fname in glob.glob(path):\n",
    "    x = pd.read_csv(fname)\n",
    "    \n",
    "    data_merge.append(x)\n",
    "\n",
    "SandP_df = pd.concat(data_merge)"
   ]
  },
  {
   "cell_type": "code",
   "execution_count": 103,
   "metadata": {},
   "outputs": [
    {
     "data": {
      "text/html": [
       "<div>\n",
       "<style scoped>\n",
       "    .dataframe tbody tr th:only-of-type {\n",
       "        vertical-align: middle;\n",
       "    }\n",
       "\n",
       "    .dataframe tbody tr th {\n",
       "        vertical-align: top;\n",
       "    }\n",
       "\n",
       "    .dataframe thead th {\n",
       "        text-align: right;\n",
       "    }\n",
       "</style>\n",
       "<table border=\"1\" class=\"dataframe\">\n",
       "  <thead>\n",
       "    <tr style=\"text-align: right;\">\n",
       "      <th></th>\n",
       "      <th>TIMESTAMP</th>\n",
       "      <th>OPEN</th>\n",
       "      <th>HIGH</th>\n",
       "      <th>LOW</th>\n",
       "      <th>CLOSE</th>\n",
       "      <th>VOL</th>\n",
       "    </tr>\n",
       "  </thead>\n",
       "  <tbody>\n",
       "    <tr>\n",
       "      <td>0</td>\n",
       "      <td>2015-03-02 09:35:00</td>\n",
       "      <td>2105.23</td>\n",
       "      <td>2106.37</td>\n",
       "      <td>2104.50</td>\n",
       "      <td>2106.27</td>\n",
       "      <td>245</td>\n",
       "    </tr>\n",
       "    <tr>\n",
       "      <td>1</td>\n",
       "      <td>2015-03-02 09:40:00</td>\n",
       "      <td>2106.31</td>\n",
       "      <td>2107.32</td>\n",
       "      <td>2106.31</td>\n",
       "      <td>2106.78</td>\n",
       "      <td>234</td>\n",
       "    </tr>\n",
       "    <tr>\n",
       "      <td>2</td>\n",
       "      <td>2015-03-02 09:45:00</td>\n",
       "      <td>2106.80</td>\n",
       "      <td>2107.29</td>\n",
       "      <td>2106.09</td>\n",
       "      <td>2106.89</td>\n",
       "      <td>234</td>\n",
       "    </tr>\n",
       "    <tr>\n",
       "      <td>3</td>\n",
       "      <td>2015-03-02 09:50:00</td>\n",
       "      <td>2106.91</td>\n",
       "      <td>2108.75</td>\n",
       "      <td>2106.91</td>\n",
       "      <td>2108.69</td>\n",
       "      <td>223</td>\n",
       "    </tr>\n",
       "    <tr>\n",
       "      <td>4</td>\n",
       "      <td>2015-03-02 09:55:00</td>\n",
       "      <td>2108.71</td>\n",
       "      <td>2109.46</td>\n",
       "      <td>2108.71</td>\n",
       "      <td>2109.24</td>\n",
       "      <td>198</td>\n",
       "    </tr>\n",
       "  </tbody>\n",
       "</table>\n",
       "</div>"
      ],
      "text/plain": [
       "            TIMESTAMP     OPEN     HIGH      LOW    CLOSE  VOL\n",
       "0 2015-03-02 09:35:00  2105.23  2106.37  2104.50  2106.27  245\n",
       "1 2015-03-02 09:40:00  2106.31  2107.32  2106.31  2106.78  234\n",
       "2 2015-03-02 09:45:00  2106.80  2107.29  2106.09  2106.89  234\n",
       "3 2015-03-02 09:50:00  2106.91  2108.75  2106.91  2108.69  223\n",
       "4 2015-03-02 09:55:00  2108.71  2109.46  2108.71  2109.24  198"
      ]
     },
     "execution_count": 103,
     "metadata": {},
     "output_type": "execute_result"
    }
   ],
   "source": [
    "SandP_df.columns = SandP_df.columns.str.replace(\"<\",\"\").str.replace(\">\",\"\")\n",
    "\n",
    "SandP_df['TIMESTAMP'] = SandP_df['DATE'].astype(str) + SandP_df['TIME'].astype(str)\n",
    "SandP_df['TIMESTAMP'] = pd.to_datetime(SandP_df['TIMESTAMP'] ,format='%Y%m%d%H%M%S')\n",
    "SandP_df = SandP_df.drop(axis =1, labels = [\"TICKER\",\"PER\", \"DATE\", \"TIME\"])\n",
    "\n",
    "SandP_df = SandP_df[['TIMESTAMP','OPEN','HIGH','LOW','CLOSE','VOL']]\n",
    "SandP_df = SandP_df.sort_values('TIMESTAMP')\n",
    "SandP_df.head()"
   ]
  },
  {
   "cell_type": "code",
   "execution_count": 107,
   "metadata": {
    "scrolled": false
   },
   "outputs": [
    {
     "data": {
      "image/png": "[encoded data removed]",
      "text/plain": [
       "<Figure size 432x288 with 1 Axes>"
      ]
     },
     "metadata": {
      "needs_background": "light"
     },
     "output_type": "display_data"
    }
   ],
   "source": [
    "plt.plot(SandP_df['TIMESTAMP'], SandP_df['CLOSE'])\n",
    "plt.show()"
   ]
  },
  {
   "cell_type": "markdown",
   "metadata": {},
   "source": [
    "# Notes \n",
    "\n",
    "## Embedding dimension\n",
    "- Time series is 1 dimensional therefore m > 2\n",
    "- Do multiple tests to assess best embedding dimension\n",
    "\n"
   ]
  }
 ],
 "metadata": {
  "kernelspec": {
   "display_name": "Python 3",
   "language": "python",
   "name": "python3"
  },
  "language_info": {
   "codemirror_mode": {
    "name": "ipython",
    "version": 3
   },
   "file_extension": ".py",
   "mimetype": "text/x-python",
   "name": "python",
   "nbconvert_exporter": "python",
   "pygments_lexer": "ipython3",
   "version": "3.7.4"
  }
 },
 "nbformat": 4,
 "nbformat_minor": 2
}
